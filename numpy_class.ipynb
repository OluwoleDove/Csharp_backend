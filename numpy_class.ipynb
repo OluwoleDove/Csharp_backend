{
  "nbformat": 4,
  "nbformat_minor": 0,
  "metadata": {
    "colab": {
      "provenance": [],
      "toc_visible": true,
      "include_colab_link": true
    },
    "kernelspec": {
      "name": "python3",
      "display_name": "Python 3"
    },
    "language_info": {
      "name": "python"
    }
  },
  "cells": [
    {
      "cell_type": "markdown",
      "metadata": {
        "id": "view-in-github",
        "colab_type": "text"
      },
      "source": [
        "<a href=\"https://colab.research.google.com/github/OluwoleDove/Csharp_backend/blob/main/numpy_class.ipynb\" target=\"_parent\"><img src=\"https://colab.research.google.com/assets/colab-badge.svg\" alt=\"Open In Colab\"/></a>"
      ]
    },
    {
      "cell_type": "markdown",
      "source": [
        "**IMPORTING MODULES**"
      ],
      "metadata": {
        "id": "OubKoczdgwFY"
      }
    },
    {
      "cell_type": "code",
      "execution_count": null,
      "metadata": {
        "id": "aJqdyX7kXxap"
      },
      "outputs": [],
      "source": [
        "import numpy as np\n",
        "import pandas as pd\n",
        "import matplotlib.pyplot as plt\n",
        "import seaborn as sns"
      ]
    },
    {
      "cell_type": "markdown",
      "source": [
        "**BROADCASTING**"
      ],
      "metadata": {
        "id": "DTO6ubp6Y3s3"
      }
    },
    {
      "cell_type": "code",
      "source": [
        "np.arange(10)"
      ],
      "metadata": {
        "colab": {
          "base_uri": "https://localhost:8080/"
        },
        "id": "Ay3quGOuZeaN",
        "outputId": "b6fe779d-1a3a-4f94-a8f5-7619236b41bc"
      },
      "execution_count": null,
      "outputs": [
        {
          "output_type": "execute_result",
          "data": {
            "text/plain": [
              "array([0, 1, 2, 3, 4, 5, 6, 7, 8, 9])"
            ]
          },
          "metadata": {},
          "execution_count": 127
        }
      ]
    },
    {
      "cell_type": "code",
      "source": [
        "arr = np.arange(10)\n",
        "print(arr + 5)"
      ],
      "metadata": {
        "colab": {
          "base_uri": "https://localhost:8080/"
        },
        "id": "dg0hX1ZvY74s",
        "outputId": "9d6ec9ab-beec-42ba-9807-15fc0ef7fc4b"
      },
      "execution_count": null,
      "outputs": [
        {
          "output_type": "stream",
          "name": "stdout",
          "text": [
            "[ 5  6  7  8  9 10 11 12 13 14]\n"
          ]
        }
      ]
    },
    {
      "cell_type": "code",
      "source": [
        "arr = np.arange(3)\n",
        "vect = np.array([1, 2, 3])\n",
        "\n",
        "arr * vect"
      ],
      "metadata": {
        "colab": {
          "base_uri": "https://localhost:8080/"
        },
        "id": "BMAwcl9TbUry",
        "outputId": "6ad16079-1dbe-4552-9090-1f5f754fe81f"
      },
      "execution_count": null,
      "outputs": [
        {
          "output_type": "execute_result",
          "data": {
            "text/plain": [
              "array([0, 2, 6])"
            ]
          },
          "metadata": {},
          "execution_count": 129
        }
      ]
    },
    {
      "cell_type": "code",
      "source": [
        "arr = np.arange(10)\n",
        "scal = np.array([1, 2, 3])\n",
        "vect = scal[:, np.newaxis]\n",
        "print(vect)\n",
        "\n",
        "arr * vect"
      ],
      "metadata": {
        "colab": {
          "base_uri": "https://localhost:8080/"
        },
        "id": "qbfCBrVGbKEJ",
        "outputId": "6fc3a712-2ad2-4832-ec70-f14a9a105263"
      },
      "execution_count": null,
      "outputs": [
        {
          "output_type": "stream",
          "name": "stdout",
          "text": [
            "[[1]\n",
            " [2]\n",
            " [3]]\n"
          ]
        },
        {
          "output_type": "execute_result",
          "data": {
            "text/plain": [
              "array([[ 0,  1,  2,  3,  4,  5,  6,  7,  8,  9],\n",
              "       [ 0,  2,  4,  6,  8, 10, 12, 14, 16, 18],\n",
              "       [ 0,  3,  6,  9, 12, 15, 18, 21, 24, 27]])"
            ]
          },
          "metadata": {},
          "execution_count": 130
        }
      ]
    },
    {
      "cell_type": "markdown",
      "source": [
        "**MULTIDIMENSIONAL ARRAY**"
      ],
      "metadata": {
        "id": "xtoxQ9iAb1_t"
      }
    },
    {
      "cell_type": "code",
      "source": [
        "data = [[1, 2, 3], [4, 5, 6]]\n",
        "arr = np.array(data)\n",
        "print(arr)\n",
        "print(f\"Shape: {arr.shape}\")\n",
        "print(f\"Number of dimensions (ndims): {arr.ndim}\")"
      ],
      "metadata": {
        "colab": {
          "base_uri": "https://localhost:8080/"
        },
        "id": "Lv91LC6_b6Im",
        "outputId": "506d9f90-0bca-40ef-86fa-9364b1b676fd"
      },
      "execution_count": null,
      "outputs": [
        {
          "output_type": "stream",
          "name": "stdout",
          "text": [
            "[[1 2 3]\n",
            " [4 5 6]]\n",
            "Shape: (2, 3)\n",
            "Number of dimensions (ndims): 2\n"
          ]
        }
      ]
    },
    {
      "cell_type": "code",
      "source": [
        "data = [(1, 2), (3, 4), (5, 6)]\n",
        "arr = np.array(data)\n",
        "print(arr)\n",
        "print(f\"Shape: {arr.shape}\")\n",
        "print(f\"Number of dimensions (ndims): {arr.ndim}\")"
      ],
      "metadata": {
        "colab": {
          "base_uri": "https://localhost:8080/"
        },
        "id": "SCaltmFfeaYE",
        "outputId": "63c58e87-090d-4e74-f05e-0a13c5beb300"
      },
      "execution_count": null,
      "outputs": [
        {
          "output_type": "stream",
          "name": "stdout",
          "text": [
            "[[1 2]\n",
            " [3 4]\n",
            " [5 6]]\n",
            "Shape: (3, 2)\n",
            "Number of dimensions (ndims): 2\n"
          ]
        }
      ]
    },
    {
      "cell_type": "code",
      "source": [
        "arr = np.arange(12)\n",
        "arr.reshape(3,4)"
      ],
      "metadata": {
        "colab": {
          "base_uri": "https://localhost:8080/"
        },
        "id": "nBj3GaJmn5tL",
        "outputId": "4dc1995c-0d87-4e66-c2ab-064fd0b0c4f4"
      },
      "execution_count": null,
      "outputs": [
        {
          "output_type": "execute_result",
          "data": {
            "text/plain": [
              "array([[ 0,  1,  2,  3],\n",
              "       [ 4,  5,  6,  7],\n",
              "       [ 8,  9, 10, 11]])"
            ]
          },
          "metadata": {},
          "execution_count": 133
        }
      ]
    },
    {
      "cell_type": "markdown",
      "source": [
        "**ndims**"
      ],
      "metadata": {
        "id": "UkWEnpsykBMV"
      }
    },
    {
      "cell_type": "code",
      "source": [
        "arr = np.array([1, 2, 3])\n",
        "print(f\"ndims: {arr.ndim}\")\n",
        "\n",
        "arr1 = np.array([[1, 2], [3, 4]])\n",
        "print(f\"ndims: {arr1.ndim}\")\n",
        "\n",
        "arr2 = np.array([[[1, 2], [3, 4]], [[5, 6], [7, 8]]])\n",
        "print(f\"ndims: {arr2.ndim}\")"
      ],
      "metadata": {
        "colab": {
          "base_uri": "https://localhost:8080/"
        },
        "id": "bGSBwQSHkEa7",
        "outputId": "3c297d2a-01f0-47ed-aa20-14caa84f6854"
      },
      "execution_count": null,
      "outputs": [
        {
          "output_type": "stream",
          "name": "stdout",
          "text": [
            "ndims: 1\n",
            "ndims: 2\n",
            "ndims: 3\n"
          ]
        }
      ]
    },
    {
      "cell_type": "markdown",
      "source": [
        "**Special Matrix Functions**"
      ],
      "metadata": {
        "id": "lO47VOefjUaY"
      }
    },
    {
      "cell_type": "code",
      "source": [
        "zeros_array = np.zeros((3, 2))\n",
        "zeros_array"
      ],
      "metadata": {
        "colab": {
          "base_uri": "https://localhost:8080/"
        },
        "id": "c9A0QZBGjZtp",
        "outputId": "759d37b6-cd3e-44b4-e0b7-2a761cd662a0"
      },
      "execution_count": null,
      "outputs": [
        {
          "output_type": "execute_result",
          "data": {
            "text/plain": [
              "array([[0., 0.],\n",
              "       [0., 0.],\n",
              "       [0., 0.]])"
            ]
          },
          "metadata": {},
          "execution_count": 135
        }
      ]
    },
    {
      "cell_type": "code",
      "source": [
        "ones_array = np.ones((2, 3))\n",
        "ones_array"
      ],
      "metadata": {
        "colab": {
          "base_uri": "https://localhost:8080/"
        },
        "id": "eJCA5cZmjowf",
        "outputId": "17d7733b-58fd-43e0-ba2b-cb18c215d06e"
      },
      "execution_count": null,
      "outputs": [
        {
          "output_type": "execute_result",
          "data": {
            "text/plain": [
              "array([[1., 1., 1.],\n",
              "       [1., 1., 1.]])"
            ]
          },
          "metadata": {},
          "execution_count": 136
        }
      ]
    },
    {
      "cell_type": "code",
      "source": [
        "empty_array = np.empty((4, 5))\n",
        "empty_array"
      ],
      "metadata": {
        "colab": {
          "base_uri": "https://localhost:8080/"
        },
        "id": "aafK_IBwjwBs",
        "outputId": "d5715b95-af00-48e6-a3ff-632adca400b4"
      },
      "execution_count": null,
      "outputs": [
        {
          "output_type": "execute_result",
          "data": {
            "text/plain": [
              "array([[0. , 0. , 0.3, 1. , 0. ],\n",
              "       [0. , 1. , 1. , 1. , 1. ],\n",
              "       [1. , 1. , 1. , 0. , 0. ],\n",
              "       [1. , 0.5, 0. , 0. , 1. ]])"
            ]
          },
          "metadata": {},
          "execution_count": 137
        }
      ]
    },
    {
      "cell_type": "markdown",
      "source": [
        "**ACCESSING ELEMENTS**"
      ],
      "metadata": {
        "id": "zkuDMp1DknV2"
      }
    },
    {
      "cell_type": "code",
      "source": [
        "arr = np.arange(16).reshape((4, 4))\n",
        "arr"
      ],
      "metadata": {
        "colab": {
          "base_uri": "https://localhost:8080/"
        },
        "id": "ZOCL6CREkuuU",
        "outputId": "fa5aaa99-f1cc-4f58-fbaa-aa17c28d8ba9"
      },
      "execution_count": null,
      "outputs": [
        {
          "output_type": "execute_result",
          "data": {
            "text/plain": [
              "array([[ 0,  1,  2,  3],\n",
              "       [ 4,  5,  6,  7],\n",
              "       [ 8,  9, 10, 11],\n",
              "       [12, 13, 14, 15]])"
            ]
          },
          "metadata": {},
          "execution_count": 138
        }
      ]
    },
    {
      "cell_type": "markdown",
      "source": [
        "**Indexing**"
      ],
      "metadata": {
        "id": "Gxm-Es18lmGP"
      }
    },
    {
      "cell_type": "code",
      "source": [
        "arr[1, 2] # Access element at row 2, column 3"
      ],
      "metadata": {
        "colab": {
          "base_uri": "https://localhost:8080/"
        },
        "id": "x-RUiWGak_4Q",
        "outputId": "e0b4cf93-2015-4a14-ccc8-ef573cd90548"
      },
      "execution_count": null,
      "outputs": [
        {
          "output_type": "execute_result",
          "data": {
            "text/plain": [
              "6"
            ]
          },
          "metadata": {},
          "execution_count": 139
        }
      ]
    },
    {
      "cell_type": "markdown",
      "source": [
        "**Slicing**"
      ],
      "metadata": {
        "id": "lZwr1dzZlYqX"
      }
    },
    {
      "cell_type": "code",
      "source": [
        "arr[2:4, 1:]"
      ],
      "metadata": {
        "colab": {
          "base_uri": "https://localhost:8080/"
        },
        "id": "5oct5EhYlbuj",
        "outputId": "d77244e7-27d9-40bd-d13e-f08fd9243fa1"
      },
      "execution_count": null,
      "outputs": [
        {
          "output_type": "execute_result",
          "data": {
            "text/plain": [
              "array([[ 9, 10, 11],\n",
              "       [13, 14, 15]])"
            ]
          },
          "metadata": {},
          "execution_count": 140
        }
      ]
    },
    {
      "cell_type": "markdown",
      "source": [
        "**Boolean Indexing**"
      ],
      "metadata": {
        "id": "cCfa02XMlsEK"
      }
    },
    {
      "cell_type": "code",
      "source": [
        "mask = arr > 10\n",
        "arr[mask]"
      ],
      "metadata": {
        "colab": {
          "base_uri": "https://localhost:8080/"
        },
        "id": "_R9ffzXplu6C",
        "outputId": "e8a23e80-2441-4017-92d0-1b182f7a6445"
      },
      "execution_count": null,
      "outputs": [
        {
          "output_type": "execute_result",
          "data": {
            "text/plain": [
              "array([11, 12, 13, 14, 15])"
            ]
          },
          "metadata": {},
          "execution_count": 141
        }
      ]
    },
    {
      "cell_type": "markdown",
      "source": [
        "**Stylish indexing**"
      ],
      "metadata": {
        "id": "LD7pfWsWmGxO"
      }
    },
    {
      "cell_type": "code",
      "source": [
        "indices = np.array([[0, 2], [1, 3]])\n",
        "arr[indices]"
      ],
      "metadata": {
        "colab": {
          "base_uri": "https://localhost:8080/"
        },
        "id": "koujLIQSlW-m",
        "outputId": "c4d7c1d7-7dfb-4c32-f19a-baf3aea560dc"
      },
      "execution_count": null,
      "outputs": [
        {
          "output_type": "execute_result",
          "data": {
            "text/plain": [
              "array([[[ 0,  1,  2,  3],\n",
              "        [ 8,  9, 10, 11]],\n",
              "\n",
              "       [[ 4,  5,  6,  7],\n",
              "        [12, 13, 14, 15]]])"
            ]
          },
          "metadata": {},
          "execution_count": 142
        }
      ]
    },
    {
      "cell_type": "markdown",
      "source": [
        "**OPERATIONS**"
      ],
      "metadata": {
        "id": "JPdBq-IUmqfD"
      }
    },
    {
      "cell_type": "markdown",
      "source": [
        "**Arithmetic Operations**"
      ],
      "metadata": {
        "id": "xqQPLt2pmwp1"
      }
    },
    {
      "cell_type": "code",
      "source": [
        "arr1 = np.array([[1, 2], [3, 4]])\n",
        "arr2 = np.array([[5, 6], [7, 8]])\n",
        "\n",
        "print(arr1 + arr2)\n",
        "print(arr1 * 2)"
      ],
      "metadata": {
        "colab": {
          "base_uri": "https://localhost:8080/"
        },
        "id": "xGOIcfDJmtex",
        "outputId": "5422dcf5-4388-4c4a-d0bb-1180e8ed370f"
      },
      "execution_count": null,
      "outputs": [
        {
          "output_type": "stream",
          "name": "stdout",
          "text": [
            "[[ 6  8]\n",
            " [10 12]]\n",
            "[[2 4]\n",
            " [6 8]]\n"
          ]
        }
      ]
    },
    {
      "cell_type": "code",
      "source": [
        "print(np.sqrt(arr1))\n",
        "print(np.log(arr2))"
      ],
      "metadata": {
        "colab": {
          "base_uri": "https://localhost:8080/"
        },
        "id": "Z1htPpaSpE6J",
        "outputId": "7bc42d8e-6561-4ab0-ae2c-75b907f4934f"
      },
      "execution_count": null,
      "outputs": [
        {
          "output_type": "stream",
          "name": "stdout",
          "text": [
            "[[1.         1.41421356]\n",
            " [1.73205081 2.        ]]\n",
            "[[1.60943791 1.79175947]\n",
            " [1.94591015 2.07944154]]\n"
          ]
        }
      ]
    },
    {
      "cell_type": "markdown",
      "source": [
        "**Logical Operators**"
      ],
      "metadata": {
        "id": "vG2-6s3qpV7V"
      }
    },
    {
      "cell_type": "code",
      "source": [
        "print(arr1 > 2)\n",
        "print(arr2 == arr1)"
      ],
      "metadata": {
        "colab": {
          "base_uri": "https://localhost:8080/"
        },
        "id": "2j2EZBK8pRkA",
        "outputId": "78aa4ab3-223e-4df4-d132-641a8e7170be"
      },
      "execution_count": null,
      "outputs": [
        {
          "output_type": "stream",
          "name": "stdout",
          "text": [
            "[[False False]\n",
            " [ True  True]]\n",
            "[[False False]\n",
            " [False False]]\n"
          ]
        }
      ]
    },
    {
      "cell_type": "markdown",
      "source": [
        "#**QUESTION**"
      ],
      "metadata": {
        "id": "Ed4XmlwRtpkG"
      }
    },
    {
      "cell_type": "markdown",
      "source": [
        "Below is a score of 5 students in 3 subjects; Mathematics, Physics and Chemistry respectively"
      ],
      "metadata": {
        "id": "Bt9lMhcdtu-j"
      }
    },
    {
      "cell_type": "code",
      "source": [
        "students = 5  # Number of students\n",
        "subjects = 3  # Number of subjects\n",
        "scores = np.random.randint(0, 100, size=(students, subjects))\n",
        "#scores = 100 * np.random.random((students, subjects))\n",
        "\n",
        "print(scores)"
      ],
      "metadata": {
        "colab": {
          "base_uri": "https://localhost:8080/"
        },
        "id": "8dHWyYpOrOkh",
        "outputId": "768aacc9-0a2f-4436-e7f3-cba061821ff1"
      },
      "execution_count": null,
      "outputs": [
        {
          "output_type": "stream",
          "name": "stdout",
          "text": [
            "[[19 16 32]\n",
            " [91 96 90]\n",
            " [24 93 58]\n",
            " [ 5  2 18]\n",
            " [32 45  5]]\n"
          ]
        }
      ]
    },
    {
      "cell_type": "markdown",
      "source": [
        "## **Tasks:**\n",
        "\n",
        "* Create a new array containing only the Mathematics scores for all students.\n",
        "* Create a new array containing the average score for each student across all subjects.\n",
        "* Access the score of the first student in Physics.\n",
        "* Select all scores above 80 in Chemistry.\n",
        "* Determine the number of dimensions (ndims) in the `scores` array.\n",
        "* Calculate the total number of scores in the dataset based on the number of dimensions.\n",
        "* Calculate the difference between each student's highest and lowest score across all subjects.\n",
        "* Find the subject with the highest average score across all students.\n",
        "* Explain how broadcasting works when adding a constant value to every element in the `scores` array.\n",
        "* Discuss potential errors that might arise when working with multidimensional arrays and suggest ways to avoid them."
      ],
      "metadata": {
        "id": "H2pkvmJZtUot"
      }
    },
    {
      "cell_type": "markdown",
      "source": [
        "MATHS SCORE FOR ALL STUDENTS"
      ],
      "metadata": {
        "id": "0jSAcR3fpfiZ"
      }
    },
    {
      "cell_type": "code",
      "source": [
        "math_scores = scores[:, 0]\n",
        "math_scores"
      ],
      "metadata": {
        "colab": {
          "base_uri": "https://localhost:8080/"
        },
        "id": "hyFyJ71xpjwi",
        "outputId": "94628569-18c1-4c62-ab52-9b31cd4d84a2"
      },
      "execution_count": null,
      "outputs": [
        {
          "output_type": "execute_result",
          "data": {
            "text/plain": [
              "array([19, 91, 24,  5, 32])"
            ]
          },
          "metadata": {},
          "execution_count": 147
        }
      ]
    },
    {
      "cell_type": "markdown",
      "source": [
        "AVERAGE SCORE PER STUDENT ACROSS EACH SUBJECT"
      ],
      "metadata": {
        "id": "9y8oeyFcsmCO"
      }
    },
    {
      "cell_type": "code",
      "source": [
        "average_scores = np.mean(scores, axis=1)\n",
        "average_scores"
      ],
      "metadata": {
        "colab": {
          "base_uri": "https://localhost:8080/"
        },
        "id": "27XiIykesqSD",
        "outputId": "5a91d5ab-a33e-420e-fd30-e61fe085988f"
      },
      "execution_count": null,
      "outputs": [
        {
          "output_type": "execute_result",
          "data": {
            "text/plain": [
              "array([22.33333333, 92.33333333, 58.33333333,  8.33333333, 27.33333333])"
            ]
          },
          "metadata": {},
          "execution_count": 148
        }
      ]
    },
    {
      "cell_type": "markdown",
      "source": [
        "FIRST ROW STUDENT IN PHYSICS"
      ],
      "metadata": {
        "id": "X4TZ8wvggEjm"
      }
    },
    {
      "cell_type": "code",
      "source": [
        "scores[0, 1]"
      ],
      "metadata": {
        "colab": {
          "base_uri": "https://localhost:8080/"
        },
        "id": "AkLy74NPgJcg",
        "outputId": "9d84aa3a-9464-4ccf-ea85-59808cd6d457"
      },
      "execution_count": null,
      "outputs": [
        {
          "output_type": "execute_result",
          "data": {
            "text/plain": [
              "16"
            ]
          },
          "metadata": {},
          "execution_count": 149
        }
      ]
    },
    {
      "cell_type": "markdown",
      "source": [
        "BEST STUDENT IN PHYSICS"
      ],
      "metadata": {
        "id": "p0VjdXqOgwUd"
      }
    },
    {
      "cell_type": "code",
      "source": [
        "np.max(scores[:, 1])"
      ],
      "metadata": {
        "colab": {
          "base_uri": "https://localhost:8080/"
        },
        "id": "OcvfJHAWgX3I",
        "outputId": "5ee01e88-2f23-4c66-9667-146519972aed"
      },
      "execution_count": null,
      "outputs": [
        {
          "output_type": "execute_result",
          "data": {
            "text/plain": [
              "96"
            ]
          },
          "metadata": {},
          "execution_count": 150
        }
      ]
    },
    {
      "cell_type": "markdown",
      "source": [
        "ALL SCORES ABOVE 80 IN CHEMISTRY"
      ],
      "metadata": {
        "id": "d5vbz86ehMcB"
      }
    },
    {
      "cell_type": "code",
      "source": [
        "scores_above_80 = scores[np.where(scores[:, 2] > 80)]\n",
        "scores_above_80"
      ],
      "metadata": {
        "colab": {
          "base_uri": "https://localhost:8080/"
        },
        "id": "-MXPt37Sg7g1",
        "outputId": "a4a3261d-3d68-4b0d-d72d-229191adf21a"
      },
      "execution_count": null,
      "outputs": [
        {
          "output_type": "execute_result",
          "data": {
            "text/plain": [
              "array([[91, 96, 90]])"
            ]
          },
          "metadata": {},
          "execution_count": 151
        }
      ]
    },
    {
      "cell_type": "markdown",
      "source": [
        "NUMBER OF DIMENSIONS OF SCORE"
      ],
      "metadata": {
        "id": "sC0KRJmmhY2I"
      }
    },
    {
      "cell_type": "code",
      "source": [
        "scores.ndim"
      ],
      "metadata": {
        "colab": {
          "base_uri": "https://localhost:8080/"
        },
        "id": "HgjN_8J1hfai",
        "outputId": "95542274-dc77-4c39-9af0-755dacc35f61"
      },
      "execution_count": null,
      "outputs": [
        {
          "output_type": "execute_result",
          "data": {
            "text/plain": [
              "2"
            ]
          },
          "metadata": {},
          "execution_count": 152
        }
      ]
    },
    {
      "cell_type": "markdown",
      "source": [
        "TOTAL NUMBER OF SCORES BASED ON THE NUMBER OF DIMENSIONS"
      ],
      "metadata": {
        "id": "4r3vDPHniGCf"
      }
    },
    {
      "cell_type": "code",
      "source": [
        "scores.size"
      ],
      "metadata": {
        "colab": {
          "base_uri": "https://localhost:8080/"
        },
        "id": "I-CyF8fahqNk",
        "outputId": "1bcb92c1-a50f-4a93-8e17-6cd9f9ce8e01"
      },
      "execution_count": null,
      "outputs": [
        {
          "output_type": "execute_result",
          "data": {
            "text/plain": [
              "15"
            ]
          },
          "metadata": {},
          "execution_count": 153
        }
      ]
    },
    {
      "cell_type": "markdown",
      "source": [
        "difference between each student's highest and lowest score across all subjects"
      ],
      "metadata": {
        "id": "HfXLjVhEiqQG"
      }
    },
    {
      "cell_type": "code",
      "source": [
        "# Find the highest score for each student.\n",
        "highest_scores = np.max(scores, axis=1)\n",
        "\n",
        "# Find the lowest score for each student.\n",
        "lowest_scores = np.min(scores, axis=1)\n",
        "\n",
        "# Subtract the lowest score from the highest score for each student.\n",
        "differences = highest_scores - lowest_scores\n",
        "\n",
        "# Print the differences.\n",
        "print(differences)"
      ],
      "metadata": {
        "colab": {
          "base_uri": "https://localhost:8080/"
        },
        "id": "3WVTyaIrii38",
        "outputId": "cf5cfc58-2a04-4a4e-eec3-c478faf568ce"
      },
      "execution_count": null,
      "outputs": [
        {
          "output_type": "stream",
          "name": "stdout",
          "text": [
            "[16  6 69 16 40]\n"
          ]
        }
      ]
    },
    {
      "cell_type": "markdown",
      "source": [
        "subject with the highest average score across all students"
      ],
      "metadata": {
        "id": "Pom9qHAWjDQp"
      }
    },
    {
      "cell_type": "code",
      "source": [
        "average_scores = np.mean(scores, axis=0)  # Calculate average scores for each subject\n",
        "highest_avg_subject = np.argmax(average_scores)  # Find the index of the highest average score to get the subject\n",
        "\n",
        "print(\"Average scores for each subject:\", average_scores)\n",
        "print(f\"The subject with the highest average score across all students is subject {highest_avg_subject + 1}\")"
      ],
      "metadata": {
        "colab": {
          "base_uri": "https://localhost:8080/"
        },
        "id": "Xg0q1hN3i0i2",
        "outputId": "3f98f728-4bc8-42de-a805-dd97bb7fe50c"
      },
      "execution_count": null,
      "outputs": [
        {
          "output_type": "stream",
          "name": "stdout",
          "text": [
            "Average scores for each subject: [34.2 50.4 40.6]\n",
            "The subject with the highest average score across all students is subject 2\n"
          ]
        }
      ]
    },
    {
      "cell_type": "markdown",
      "source": [
        "## HOW BROADCASTING WORKS\n",
        "\n",
        "Broadcasting in NumPy is a powerful mechanism that allows arrays of different shapes to be used together in arithmetic operations. When you perform an operation between arrays of different shapes or between an array and a constant value, NumPy automatically adjusts their shapes to enable the operation, following a set of rules."
      ],
      "metadata": {
        "id": "lgFfm3eUkXtV"
      }
    },
    {
      "cell_type": "code",
      "source": [
        "constant_value = 5\n",
        "result = scores + constant_value\n",
        "result"
      ],
      "metadata": {
        "colab": {
          "base_uri": "https://localhost:8080/"
        },
        "id": "vXK2HLhskaFd",
        "outputId": "e3f18c32-20eb-4197-bf1b-0b876fb41785"
      },
      "execution_count": null,
      "outputs": [
        {
          "output_type": "execute_result",
          "data": {
            "text/plain": [
              "array([[ 24,  21,  37],\n",
              "       [ 96, 101,  95],\n",
              "       [ 29,  98,  63],\n",
              "       [ 10,   7,  23],\n",
              "       [ 37,  50,  10]])"
            ]
          },
          "metadata": {},
          "execution_count": 156
        }
      ]
    },
    {
      "cell_type": "markdown",
      "source": [
        "##MULTIDIMENSIONAL ARRAYS ERRORS & METHODS TO AVOID THEM"
      ],
      "metadata": {
        "id": "uC_O8ESTla1I"
      }
    },
    {
      "cell_type": "markdown",
      "source": [
        "Shape Mismatch: Check array shapes before operations.<br />\n",
        "Indexing Errors: Validate indices to avoid out-of-bounds errors.<br />\n",
        "Memory Management: Optimize for large arrays to prevent exhaustion.<br />\n",
        "Data Type Concerns: Ensure consistent data types in operations.<br />\n",
        "Axis Specification: Specify axes in operations like sum or mean.<br />\n",
        "Broadcasting Awareness: Understand NumPy's broadcasting rules.<br />\n",
        "NaNs and Infs: Handle and check for NaNs or Infs after operations.<br /><br />\n",
        "To avoid: Validate shapes, indices, types, and axes; test and debug step-by-step; optimize for memory; understand broadcasting; handle NaNs and Infs appropriately."
      ],
      "metadata": {
        "id": "NjoTAbLuljBX"
      }
    },
    {
      "cell_type": "markdown",
      "source": [],
      "metadata": {
        "id": "oNhMdWEJvjCH"
      }
    }
  ]
}